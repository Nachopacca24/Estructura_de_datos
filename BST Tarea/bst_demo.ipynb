{
 "cells": [
  {
   "cell_type": "markdown",
   "metadata": {},
   "source": [
    "### < BST>\n",
    "---\n",
    "\n",
    "< Jose Igancio Paccagnella >  \n",
    "< 20240103 >"
   ]
  },
  {
   "cell_type": "code",
   "execution_count": 1,
   "metadata": {},
   "outputs": [],
   "source": [
    "from bst import BinarySearchTree\n"
   ]
  },
  {
   "cell_type": "code",
   "execution_count": 2,
   "metadata": {},
   "outputs": [],
   "source": [
    "tree = BinarySearchTree()"
   ]
  },
  {
   "cell_type": "code",
   "execution_count": 3,
   "metadata": {},
   "outputs": [],
   "source": [
    "vals = [75,65,25,63,98,74,12,11,41,24,14,88,66,44,77,22,78,23,56,54,52,53,58,89,91,33] # Agregar 25 valores aleatorios que permitan demostrar los 3 casos de delete\n",
    "\n",
    "for val in vals:\n",
    "    tree.insert(val)"
   ]
  },
  {
   "cell_type": "code",
   "execution_count": 4,
   "metadata": {},
   "outputs": [
    {
     "name": "stdout",
     "output_type": "stream",
     "text": [
      "\n",
      "                                  ____75___________\n",
      "                                 /                 \\\n",
      "              __________________65___         ____98\n",
      "             /                       \\       /\n",
      "    ________25_________________     74    __88_\n",
      "   /                           \\   /     /     \\\n",
      "  12_______       ____________63  66    77_   89_\n",
      " /         \\     /                         \\     \\\n",
      "11    ____24    41_                       78    91\n",
      "     /         /   \\\n",
      "    14_       33  44_______\n",
      "       \\                   \\\n",
      "      22_                 56_\n",
      "         \\               /   \\\n",
      "        23            __54  58\n",
      "                     /\n",
      "                    52_\n",
      "                       \\\n",
      "                      53\n"
     ]
    }
   ],
   "source": [
    "tree.print_pretty()"
   ]
  },
  {
   "cell_type": "markdown",
   "metadata": {},
   "source": [
    "## Delete - caso no. 1\n",
    "\n",
    "Eliminacion de un nodo sin hijos, se elimina el 23.\n"
   ]
  },
  {
   "cell_type": "code",
   "execution_count": 7,
   "metadata": {},
   "outputs": [
    {
     "name": "stdout",
     "output_type": "stream",
     "text": [
      "\n",
      "                                ____75___________\n",
      "                               /                 \\\n",
      "            __________________65___         ____98\n",
      "           /                       \\       /\n",
      "    ______25_________________     74    __88_\n",
      "   /                         \\   /     /     \\\n",
      "  12_____       ____________63  66    77_   89_\n",
      " /       \\     /                         \\     \\\n",
      "11    __24    41_                       78    91\n",
      "     /       /   \\\n",
      "    14_     33  44_______\n",
      "       \\                 \\\n",
      "      22                56_\n",
      "                       /   \\\n",
      "                    __54  58\n",
      "                   /\n",
      "                  52_\n",
      "                     \\\n",
      "                    53\n"
     ]
    }
   ],
   "source": [
    "tree.delete(23)\n",
    "tree.print_pretty()"
   ]
  },
  {
   "cell_type": "markdown",
   "metadata": {},
   "source": [
    "## Delete - caso no. 2\n",
    "\n",
    "Se elimina un nodo con un hijo, se elimino al 14, que tenia de hijo a 22, y 22 lo remplazo."
   ]
  },
  {
   "cell_type": "code",
   "execution_count": 8,
   "metadata": {},
   "outputs": [
    {
     "name": "stdout",
     "output_type": "stream",
     "text": [
      "\n",
      "                              ____75___________\n",
      "                             /                 \\\n",
      "          __________________65___         ____98\n",
      "         /                       \\       /\n",
      "    ____25_________________     74    __88_\n",
      "   /                       \\   /     /     \\\n",
      "  12___       ____________63  66    77_   89_\n",
      " /     \\     /                         \\     \\\n",
      "11    24    41_                       78    91\n",
      "     /     /   \\\n",
      "    22    33  44_______\n",
      "                       \\\n",
      "                      56_\n",
      "                     /   \\\n",
      "                  __54  58\n",
      "                 /\n",
      "                52_\n",
      "                   \\\n",
      "                  53\n"
     ]
    }
   ],
   "source": [
    "tree.delete(14)\n",
    "tree.print_pretty()"
   ]
  },
  {
   "cell_type": "markdown",
   "metadata": {},
   "source": [
    "## Delete - caso no. 3\n",
    "\n",
    "Se elimino a 56, que tenia de hijo a 54 y 58."
   ]
  },
  {
   "cell_type": "code",
   "execution_count": 9,
   "metadata": {},
   "outputs": [
    {
     "name": "stdout",
     "output_type": "stream",
     "text": [
      "\n",
      "                            ____75___________\n",
      "                           /                 \\\n",
      "          ________________65___         ____98\n",
      "         /                     \\       /\n",
      "    ____25_______________     74    __88_\n",
      "   /                     \\   /     /     \\\n",
      "  12___       __________63  66    77_   89_\n",
      " /     \\     /                       \\     \\\n",
      "11    24    41_                     78    91\n",
      "     /     /   \\\n",
      "    22    33  44_______\n",
      "                       \\\n",
      "                      58\n",
      "                     /\n",
      "                  __54\n",
      "                 /\n",
      "                52_\n",
      "                   \\\n",
      "                  53\n"
     ]
    }
   ],
   "source": [
    "tree.delete(56)\n",
    "tree.print_pretty()"
   ]
  },
  {
   "cell_type": "markdown",
   "metadata": {},
   "source": [
    "---"
   ]
  }
 ],
 "metadata": {
  "kernelspec": {
   "display_name": "Python 3",
   "language": "python",
   "name": "python3"
  },
  "language_info": {
   "codemirror_mode": {
    "name": "ipython",
    "version": 3
   },
   "file_extension": ".py",
   "mimetype": "text/x-python",
   "name": "python",
   "nbconvert_exporter": "python",
   "pygments_lexer": "ipython3",
   "version": "3.10.0"
  }
 },
 "nbformat": 4,
 "nbformat_minor": 2
}
